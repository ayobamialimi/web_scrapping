{
 "cells": [
  {
   "cell_type": "code",
   "execution_count": 3,
   "id": "7e5c3957-2f78-4aad-b5f9-af53a632209d",
   "metadata": {
    "tags": []
   },
   "outputs": [
    {
     "name": "stderr",
     "output_type": "stream",
     "text": [
      "\n",
      "Usage:   \n",
      "  pip install [options] <requirement specifier> [package-index-options] ...\n",
      "  pip install [options] -r <requirements file> [package-index-options] ...\n",
      "  pip install [options] [-e] <vcs project url> ...\n",
      "  pip install [options] [-e] <local project path> ...\n",
      "  pip install [options] <archive url/path> ...\n",
      "\n",
      "no such option: -y\n"
     ]
    },
    {
     "name": "stdout",
     "output_type": "stream",
     "text": [
      "Requirement already satisfied: nbformat==4.2.0 in c:\\users\\user\\anaconda3\\lib\\site-packages (4.2.0)\n",
      "Requirement already satisfied: ipython-genutils in c:\\users\\user\\anaconda3\\lib\\site-packages (from nbformat==4.2.0) (0.2.0)\n",
      "Requirement already satisfied: jsonschema!=2.5.0,>=2.4 in c:\\users\\user\\anaconda3\\lib\\site-packages (from nbformat==4.2.0) (4.17.3)\n",
      "Requirement already satisfied: jupyter-core in c:\\users\\user\\appdata\\roaming\\python\\python311\\site-packages (from nbformat==4.2.0) (5.1.1)\n",
      "Requirement already satisfied: traitlets>=4.1 in c:\\users\\user\\appdata\\roaming\\python\\python311\\site-packages (from nbformat==4.2.0) (5.8.0)\n",
      "Requirement already satisfied: attrs>=17.4.0 in c:\\users\\user\\anaconda3\\lib\\site-packages (from jsonschema!=2.5.0,>=2.4->nbformat==4.2.0) (22.1.0)\n",
      "Requirement already satisfied: pyrsistent!=0.17.0,!=0.17.1,!=0.17.2,>=0.14.0 in c:\\users\\user\\anaconda3\\lib\\site-packages (from jsonschema!=2.5.0,>=2.4->nbformat==4.2.0) (0.18.0)\n",
      "Requirement already satisfied: platformdirs>=2.5 in c:\\users\\user\\appdata\\roaming\\python\\python311\\site-packages (from jupyter-core->nbformat==4.2.0) (2.6.0)\n",
      "Requirement already satisfied: pywin32>=1.0 in c:\\users\\user\\appdata\\roaming\\python\\python311\\site-packages (from jupyter-core->nbformat==4.2.0) (305)\n"
     ]
    },
    {
     "name": "stderr",
     "output_type": "stream",
     "text": [
      "'mamba' is not recognized as an internal or external command,\n",
      "operable program or batch file.\n"
     ]
    }
   ],
   "source": [
    "!pip install bs4==4.10.0 -y\n",
    "!pip install nbformat==4.2.0\n",
    "!mamba install html5lib==1.1 -y"
   ]
  },
  {
   "cell_type": "code",
   "execution_count": null,
   "id": "fb36d356-0272-4a00-a176-fa6df73cb0a8",
   "metadata": {
    "tags": []
   },
   "outputs": [
    {
     "name": "stderr",
     "output_type": "stream",
     "text": [
      "C:\\Users\\user\\AppData\\Roaming\\Python\\Python311\\site-packages\\pandas\\core\\arrays\\masked.py:60: UserWarning: Pandas requires version '1.3.6' or newer of 'bottleneck' (version '1.3.5' currently installed).\n",
      "  from pandas.core import (\n"
     ]
    }
   ],
   "source": [
    "import requests\n",
    "from bs4 import BeautifulSoup\n",
    "import pandas as pd\n",
    "import warnings\n",
    "# Ignore all warnings\n",
    "warnings.filterwarnings(\"ignore\", category=FutureWarning)\n",
    "url = \"https://www.cbr.ru/eng/hd_base/mrrf/mrrf_7d/?UniDbQuery.Posted=True&UniDbQuery.From=01.2021&UniDbQuery.To=11.2024.html\"\n",
    "data  = requests.get(url).text\n",
    "soup = BeautifulSoup(data, 'html.parser')\n",
    "\n",
    "# Instead of directly accessing tbody, find the table first and then iterate through its rows\n",
    "table = soup.find('table', {'class': 'data'})  # Assuming the table has a class 'data'\n",
    "# Check if the table is found\n",
    "if table:\n",
    "    reserve_data = pd.DataFrame(columns=[\"Date\", \"Volume\"])\n",
    "    for row in table.find_all('tr')[1:]:  # Skip the header row\n",
    "        col = row.find_all(\"td\")\n",
    "        # Check if the expected number of columns is present\n",
    "        if len(col) >= 2:\n",
    "            Date = col[0].text\n",
    "            Volume = col[1].text\n",
    "            reserve_data = pd.concat([reserve_data, pd.DataFrame({\"Date\":[Date], \"Volume\":[Volume]})], ignore_index=True)\n",
    "        else:\n",
    "            print(\"Skipping row with insufficient columns:\", row) # Print debug information\n",
    "else:\n",
    "    print(\"Table not found on the page.\")"
   ]
  },
  {
   "cell_type": "code",
   "execution_count": null,
   "id": "6d5133d0-c98f-451c-807d-25970acc6880",
   "metadata": {},
   "outputs": [],
   "source": []
  }
 ],
 "metadata": {
  "kernelspec": {
   "display_name": "Python 3 (ipykernel)",
   "language": "python",
   "name": "python3"
  },
  "language_info": {
   "codemirror_mode": {
    "name": "ipython",
    "version": 3
   },
   "file_extension": ".py",
   "mimetype": "text/x-python",
   "name": "python",
   "nbconvert_exporter": "python",
   "pygments_lexer": "ipython3",
   "version": "3.11.4"
  }
 },
 "nbformat": 4,
 "nbformat_minor": 5
}
