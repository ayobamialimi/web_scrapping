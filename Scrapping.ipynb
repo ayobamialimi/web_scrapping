{
 "cells": [
  {
   "cell_type": "code",
   "execution_count": 3,
   "id": "7e5c3957-2f78-4aad-b5f9-af53a632209d",
   "metadata": {
    "tags": []
   },
   "outputs": [
    {
     "name": "stderr",
     "output_type": "stream",
     "text": [
      "\n",
      "Usage:   \n",
      "  pip install [options] <requirement specifier> [package-index-options] ...\n",
      "  pip install [options] -r <requirements file> [package-index-options] ...\n",
      "  pip install [options] [-e] <vcs project url> ...\n",
      "  pip install [options] [-e] <local project path> ...\n",
      "  pip install [options] <archive url/path> ...\n",
      "\n",
      "no such option: -y\n"
     ]
    },
    {
     "name": "stdout",
     "output_type": "stream",
     "text": [
      "Requirement already satisfied: nbformat==4.2.0 in c:\\users\\user\\anaconda3\\lib\\site-packages (4.2.0)\n",
      "Requirement already satisfied: ipython-genutils in c:\\users\\user\\anaconda3\\lib\\site-packages (from nbformat==4.2.0) (0.2.0)\n",
      "Requirement already satisfied: jsonschema!=2.5.0,>=2.4 in c:\\users\\user\\anaconda3\\lib\\site-packages (from nbformat==4.2.0) (4.17.3)\n",
      "Requirement already satisfied: jupyter-core in c:\\users\\user\\appdata\\roaming\\python\\python311\\site-packages (from nbformat==4.2.0) (5.1.1)\n",
      "Requirement already satisfied: traitlets>=4.1 in c:\\users\\user\\appdata\\roaming\\python\\python311\\site-packages (from nbformat==4.2.0) (5.8.0)\n",
      "Requirement already satisfied: attrs>=17.4.0 in c:\\users\\user\\anaconda3\\lib\\site-packages (from jsonschema!=2.5.0,>=2.4->nbformat==4.2.0) (22.1.0)\n",
      "Requirement already satisfied: pyrsistent!=0.17.0,!=0.17.1,!=0.17.2,>=0.14.0 in c:\\users\\user\\anaconda3\\lib\\site-packages (from jsonschema!=2.5.0,>=2.4->nbformat==4.2.0) (0.18.0)\n",
      "Requirement already satisfied: platformdirs>=2.5 in c:\\users\\user\\appdata\\roaming\\python\\python311\\site-packages (from jupyter-core->nbformat==4.2.0) (2.6.0)\n",
      "Requirement already satisfied: pywin32>=1.0 in c:\\users\\user\\appdata\\roaming\\python\\python311\\site-packages (from jupyter-core->nbformat==4.2.0) (305)\n"
     ]
    },
    {
     "name": "stderr",
     "output_type": "stream",
     "text": [
      "'mamba' is not recognized as an internal or external command,\n",
      "operable program or batch file.\n"
     ]
    }
   ],
   "source": [
    "!pip install bs4==4.10.0 -y\n",
    "!pip install nbformat==4.2.0\n",
    "!mamba install html5lib==1.1 -y"
   ]
  },
  {
   "cell_type": "code",
   "execution_count": 6,
   "id": "fb36d356-0272-4a00-a176-fa6df73cb0a8",
   "metadata": {
    "tags": []
   },
   "outputs": [],
   "source": [
    "import requests\n",
    "from bs4 import BeautifulSoup\n",
    "import pandas as pd\n",
    "import warnings\n",
    "# Ignore all warnings\n",
    "warnings.filterwarnings(\"ignore\", category=FutureWarning)\n",
    "url = \"https://www.cbr.ru/eng/hd_base/mrrf/mrrf_7d/?UniDbQuery.Posted=True&UniDbQuery.From=01.2021&UniDbQuery.To=11.2024.html\"\n",
    "data  = requests.get(url).text\n",
    "soup = BeautifulSoup(data, 'html.parser')\n",
    "\n",
    "# Instead of directly accessing tbody, find the table first and then iterate through its rows\n",
    "table = soup.find('table', {'class': 'data'}) \n",
    "# Check if the table is found\n",
    "if table:\n",
    "    reserve_data = pd.DataFrame(columns=[\"Date\", \"Volume\"])\n",
    "    for row in table.find_all('tr')[1:]:  # Skip the header row\n",
    "        col = row.find_all(\"td\")\n",
    "        # Check if the expected number of columns is present\n",
    "        if len(col) >= 2:\n",
    "            Date = col[0].text\n",
    "            Volume = col[1].text\n",
    "            reserve_data = pd.concat([reserve_data, pd.DataFrame({\"Date\":[Date], \"Volume\":[Volume]})], ignore_index=True)\n",
    "        else:\n",
    "            print(\"Skipping row with insufficient columns:\", row) # Print debug information\n",
    "else:\n",
    "    print(\"Table not found on the page.\")"
   ]
  },
  {
   "cell_type": "code",
   "execution_count": 7,
   "id": "6d5133d0-c98f-451c-807d-25970acc6880",
   "metadata": {
    "tags": []
   },
   "outputs": [],
   "source": [
    "reserve_data.to_csv(\"reserve.csv\", index=False)"
   ]
  },
  {
   "cell_type": "code",
   "execution_count": 8,
   "id": "1a644173-010b-4254-9c28-8c22e9acf655",
   "metadata": {
    "tags": []
   },
   "outputs": [],
   "source": [
    "import requests\n",
    "from bs4 import BeautifulSoup\n",
    "import pandas as pd\n",
    "import warnings\n",
    "# Ignore all warnings\n",
    "warnings.filterwarnings(\"ignore\", category=FutureWarning)\n",
    "url = \"https://www.cbr.ru/eng/hd_base/mb_nd/mb_nd_month/?UniDbQuery.Posted=True&UniDbQuery.From=01.2021&UniDbQuery.To=11.2024.html\"\n",
    "data  = requests.get(url).text\n",
    "soup = BeautifulSoup(data, 'html.parser')\n",
    "\n",
    "# Instead of directly accessing tbody, find the table first and then iterate through its rows\n",
    "table = soup.find('table', {'class': 'data'}) \n",
    "# Check if the table is found\n",
    "if table:\n",
    "    monetary_data = pd.DataFrame(columns=[\"Date\", \"Monetary_Base\", \"Currency\", \"Reserve\"])\n",
    "    # Extract header names from the table for 'Currency' and 'Reserve'\n",
    "    header_row = table.find_all('tr')[0]  # Get the header row\n",
    "    header_cols = header_row.find_all('th')  # Get all th elements in the header row\n",
    "    #currency_header = header_cols[2].text.strip()  # Extract Currency header text # currency_header is set to 'Date', this is incorrect.\n",
    "    #reserve_header = header_cols[3].text.strip()  # Extract Reserve header text # reserve_header is set to 'Monetary Base', this is incorrect\n",
    "    \n",
    "\n",
    "    for row in table.find_all('tr')[2:]:  # Skip the header row and the next row\n",
    "        col = row.find_all(\"td\")\n",
    "        # Check if the expected number of columns is present\n",
    "        if len(col) >= 4: \n",
    "            Date = col[0].text\n",
    "            Monetary_Base = col[1].text\n",
    "            Currency = col[2].text \n",
    "            Reserve = col[3].text\n",
    "            # Use the correct column names directly when creating the temporary DataFrame:\n",
    "            monetary_data = pd.concat([monetary_data, pd.DataFrame({\"Date\":[Date], \"Monetary_Base\":[Monetary_Base], \n",
    "                                                                    \"Currency\":[Currency], \"Reserve\":[Reserve]})], ignore_index=True) \n",
    "        else:\n",
    "            print"
   ]
  },
  {
   "cell_type": "code",
   "execution_count": 9,
   "id": "c5377cc0-e329-4dc9-a2b1-8cdebc1da84e",
   "metadata": {
    "tags": []
   },
   "outputs": [],
   "source": [
    "monetary_data.to_csv(\"monetary.csv\", index=False)"
   ]
  },
  {
   "cell_type": "code",
   "execution_count": 10,
   "id": "b95e6530-3c3d-4269-8287-f0c0ea071bbe",
   "metadata": {
    "tags": []
   },
   "outputs": [],
   "source": [
    "url = \"https://www.cbr.ru/eng/hd_base/deposit_base/?UniDbQuery.Posted=True&UniDbQuery.From=01.01.2021&UniDbQuery.To=20.11.2024.html\"\n",
    "data  = requests.get(url).text\n",
    "soup = BeautifulSoup(data, 'html.parser')\n",
    "\n",
    "# Instead of directly accessing tbody, find the table first and then iterate through its rows\n",
    "table = soup.find('table', {'class': 'data'})  \n",
    "# Check if the table is found\n",
    "if table:\n",
    "    interest_data = pd.DataFrame(columns=[\"Date\", \"Overnight\"])\n",
    "    for row in table.find_all('tr')[1:]:  # Skip the header row\n",
    "        col = row.find_all(\"td\")\n",
    "        # Check if the expected number of columns is present\n",
    "        if len(col) >= 2:\n",
    "            Date = col[0].text\n",
    "            Overnight = col[1].text\n",
    "            interest_data = pd.concat([interest_data, pd.DataFrame({\"Date\":[Date], \"Overnight\":[Overnight]})], ignore_index=True)\n",
    "        else:\n",
    "            print(\"Skipping row with insufficient columns:\", row) # Print debug information\n",
    "else:\n",
    "    print(\"Table not found on the page.\")\n",
    "           "
   ]
  },
  {
   "cell_type": "code",
   "execution_count": 11,
   "id": "a1399739-336d-4e7c-ab57-abcefa45f697",
   "metadata": {
    "tags": []
   },
   "outputs": [],
   "source": [
    "interest_data.to_csv(\"interest.csv\", index=False)"
   ]
  },
  {
   "cell_type": "code",
   "execution_count": 12,
   "id": "c121538f-cd5d-4e66-91c1-4b8546a949b8",
   "metadata": {
    "tags": []
   },
   "outputs": [
    {
     "name": "stdout",
     "output_type": "stream",
     "text": [
      "403\n",
      "Request failed with status code: 403\n"
     ]
    }
   ],
   "source": [
    "import requests\n",
    "import pandas as pd\n",
    "\n",
    "url = \"https://www.investing.com/economic-calendar/russian-cpi-1180\"\n",
    "\n",
    "# Fetch the page content\n",
    "headers = {\n",
    "    \"User-Agent\": \"Mozilla/5.0 (Windows NT 10.0; Win64; x64) AppleWebKit/537.36 (KHTML, like Gecko) Chrome/114.0.0.0 Safari/537.36\",\n",
    "    # Add Referer header\n",
    "    \"Referer\": \"https://www.investing.com/\" \n",
    "}  # Add a User-Agent and Referer to mimic a browser request\n",
    "\n",
    "response = requests.get(url, headers=headers)\n",
    "\n",
    "# Instead of raising an exception, print the status code for debugging\n",
    "print(response.status_code)  \n",
    "\n",
    "# Only proceed if the request was successful\n",
    "if response.status_code == 200:\n",
    "    try:\n",
    "        cpi = pd.read_html(response.content, attrs={\"id\": \"eventHistoryTable1180\"})[0]\n",
    "        # Rename columns for clarity (optional)\n",
    "        cpi.columns = [\"release_date\", \"time\", \"actual\", \"forecast\", \"previous\"]\n",
    "        print(cpi)\n",
    "    except IndexError:\n",
    "        print(\"Table not found on the page.\")\n",
    "else:\n",
    "    print(f\"Request failed with status code: {response.status_code}\")"
   ]
  },
  {
   "cell_type": "code",
   "execution_count": null,
   "id": "5762eed7-4771-42f7-b345-f147754029ac",
   "metadata": {},
   "outputs": [],
   "source": []
  }
 ],
 "metadata": {
  "kernelspec": {
   "display_name": "Python 3 (ipykernel)",
   "language": "python",
   "name": "python3"
  },
  "language_info": {
   "codemirror_mode": {
    "name": "ipython",
    "version": 3
   },
   "file_extension": ".py",
   "mimetype": "text/x-python",
   "name": "python",
   "nbconvert_exporter": "python",
   "pygments_lexer": "ipython3",
   "version": "3.11.4"
  }
 },
 "nbformat": 4,
 "nbformat_minor": 5
}
